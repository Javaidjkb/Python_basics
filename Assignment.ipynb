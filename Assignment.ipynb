{
  "nbformat": 4,
  "nbformat_minor": 0,
  "metadata": {
    "colab": {
      "provenance": []
    },
    "kernelspec": {
      "name": "python3",
      "display_name": "Python 3"
    },
    "language_info": {
      "name": "python"
    }
  },
  "cells": [
    {
      "cell_type": "code",
      "execution_count": null,
      "metadata": {
        "id": "wgtSk6ooQiyy"
      },
      "outputs": [],
      "source": []
    },
    {
      "cell_type": "markdown",
      "source": [
        "#Python Basics"
      ],
      "metadata": {
        "id": "nlTfPBcWS4ZI"
      }
    },
    {
      "cell_type": "markdown",
      "source": [
        "1. What is Python and why is it popular?\n",
        "  - Python a high end programming language is used for data science, web development, artificial intelligence etc.it is popular because it is simple and have large community support.\n",
        "\n",
        "2. What is an interpretor in Python?\n",
        "  - An interpretor in python is a program which directly executes the source code without changing it in machine language, thus helps in fast development.\n",
        "3. What are predefined words in Python?\n",
        "  - predefined words have special meaning in Python which are reserved and cannot be used as variables.\n",
        "4. Can keywords be used as variables?\n",
        "  - Keywords cannot be used as variables as they have specific purpose.\n",
        "5. What is mutability in Python?\n",
        "  - its the ability of an object to change its value after it is created.\n",
        "6. Why are lists mutable but tuples are immutable?\n",
        "  - Lists are designed to be dynamic and flexible, thus allows elements to be modified. tuples are designed to remain static to ensure their content remain same.\n",
        "7. What is the difference between\"==\" and \"is\" operators in python?\n",
        "  - \"==\"is used for comparing equlity in value and \"is\" is used for equality in identity.\n",
        "8. What are logical operators in python?\n",
        "  - Operators which combines condtional statements and include \"and\", \"or\" and \"not\".\n",
        "9. What is typecasting in Python?\n",
        "  - It converts a value from one data type to another.\n",
        "10. what is difference between implicit and explicit type casting?\n",
        "  - implicit happens automatically when python encounters an operation which requires specific data type. explicit typecasting is when we use manually specific functions like int(),float(),str().  \n",
        "11. What is the purpose of conditional statements in python?\n",
        "  - conditional statements to used to run specific block of code based on some condition.\n",
        "12. how does the elif statement work?\n",
        "  - The elif (else if) is used to check another condition if the initial condition in an if statement is false.\n",
        "13. what is the difference between for and while loops?\n",
        "  - for loops are used to iterate over a sequence(like list) for a specified number of times. while runs as longs as certain condition is true.\n",
        "14. Describe a scenario where a while loop is more suitable than a for loop?\n",
        "   - while is suitable for some work or task where its completion depens on some condition. for example i will keep dieting till my weight equals to 60 kgs.\n",
        "   \n",
        "\n",
        "\n",
        "\n"
      ],
      "metadata": {
        "id": "8YgDFs59TFZR"
      }
    },
    {
      "cell_type": "code",
      "source": [
        "#1.Write a python program to print \"hello, world!\"\n",
        "print(\"Hello world!\")"
      ],
      "metadata": {
        "colab": {
          "base_uri": "https://localhost:8080/"
        },
        "id": "24zKzFQ4gaRN",
        "outputId": "6ecb1352-43d9-4ece-a8ee-93a34a438268"
      },
      "execution_count": 1,
      "outputs": [
        {
          "output_type": "stream",
          "name": "stdout",
          "text": [
            "Hello world!\n"
          ]
        }
      ]
    },
    {
      "cell_type": "code",
      "source": [
        "#2. Write a python program that displays your name and age\n",
        "name = \"Javaid\"\n",
        "age=\"38\"\n",
        "print(\"Name:\", name)\n",
        "print(\"Age:\", age)\n"
      ],
      "metadata": {
        "colab": {
          "base_uri": "https://localhost:8080/"
        },
        "id": "LTylxyRnTDim",
        "outputId": "bedc9a19-5c44-410b-95cb-181239e7607e"
      },
      "execution_count": 5,
      "outputs": [
        {
          "output_type": "stream",
          "name": "stdout",
          "text": [
            "Name: Javaid\n",
            "Age: 38\n"
          ]
        }
      ]
    },
    {
      "cell_type": "code",
      "source": [
        "#3.Write code to print all the prdefined keywords in python using the keyword library.\n",
        "import keyword\n",
        "print(keyword.kwlist)"
      ],
      "metadata": {
        "colab": {
          "base_uri": "https://localhost:8080/"
        },
        "id": "yQam6UvGiAyJ",
        "outputId": "1df7bff1-a54c-4561-e47a-4739f15a7d94"
      },
      "execution_count": 6,
      "outputs": [
        {
          "output_type": "stream",
          "name": "stdout",
          "text": [
            "['False', 'None', 'True', 'and', 'as', 'assert', 'async', 'await', 'break', 'class', 'continue', 'def', 'del', 'elif', 'else', 'except', 'finally', 'for', 'from', 'global', 'if', 'import', 'in', 'is', 'lambda', 'nonlocal', 'not', 'or', 'pass', 'raise', 'return', 'try', 'while', 'with', 'yield']\n"
          ]
        }
      ]
    },
    {
      "cell_type": "code",
      "source": [
        "#4.write a program that checks if a given code is a python keyword.\n",
        "import keyword\n",
        "word = input(\"Enter a word: \")\n",
        "if keyword.iskeyword(word):\n",
        "  print(word, \"is a python keyword\")\n",
        "else:\n",
        "    print(word, \"is not a python keyword\")"
      ],
      "metadata": {
        "colab": {
          "base_uri": "https://localhost:8080/"
        },
        "id": "Y4uTKq8pj1Kp",
        "outputId": "ce491720-048f-4e68-f4d5-c83dbc13a0aa"
      },
      "execution_count": 11,
      "outputs": [
        {
          "output_type": "stream",
          "name": "stdout",
          "text": [
            "Enter a word: true\n",
            "true is not a python keyword\n"
          ]
        }
      ]
    },
    {
      "cell_type": "code",
      "source": [
        "#5. create a list and tupple in python and demonstrate how attempting to change an element works differently for each.\n",
        "my_list=[\"proteins\",\"carbs\",\"fats\"]\n",
        "my_tupple=(\"ldh\",\"ldl\",\"vldl\")\n",
        "\n",
        "my_list[0] = \"amino\"\n",
        "my_tupple[2]=\"cholestrol\"\n",
        "print(my_list)\n",
        "print(my_tupple)"
      ],
      "metadata": {
        "colab": {
          "base_uri": "https://localhost:8080/",
          "height": 207
        },
        "id": "CXyrtRKjlxHU",
        "outputId": "adcc55e5-79e5-41f5-8ebf-8da95712b721"
      },
      "execution_count": 22,
      "outputs": [
        {
          "output_type": "error",
          "ename": "TypeError",
          "evalue": "'tuple' object does not support item assignment",
          "traceback": [
            "\u001b[0;31m---------------------------------------------------------------------------\u001b[0m",
            "\u001b[0;31mTypeError\u001b[0m                                 Traceback (most recent call last)",
            "\u001b[0;32m<ipython-input-22-0af2831043a3>\u001b[0m in \u001b[0;36m<cell line: 0>\u001b[0;34m()\u001b[0m\n\u001b[1;32m      4\u001b[0m \u001b[0;34m\u001b[0m\u001b[0m\n\u001b[1;32m      5\u001b[0m \u001b[0mmy_list\u001b[0m\u001b[0;34m[\u001b[0m\u001b[0;36m0\u001b[0m\u001b[0;34m]\u001b[0m \u001b[0;34m=\u001b[0m \u001b[0;34m\"amino\"\u001b[0m\u001b[0;34m\u001b[0m\u001b[0;34m\u001b[0m\u001b[0m\n\u001b[0;32m----> 6\u001b[0;31m \u001b[0mmy_tupple\u001b[0m\u001b[0;34m[\u001b[0m\u001b[0;36m2\u001b[0m\u001b[0;34m]\u001b[0m\u001b[0;34m=\u001b[0m\u001b[0;34m\"cholestrol\"\u001b[0m\u001b[0;34m\u001b[0m\u001b[0;34m\u001b[0m\u001b[0m\n\u001b[0m\u001b[1;32m      7\u001b[0m \u001b[0mprint\u001b[0m\u001b[0;34m(\u001b[0m\u001b[0mmy_list\u001b[0m\u001b[0;34m)\u001b[0m\u001b[0;34m\u001b[0m\u001b[0;34m\u001b[0m\u001b[0m\n\u001b[1;32m      8\u001b[0m \u001b[0mprint\u001b[0m\u001b[0;34m(\u001b[0m\u001b[0mmy_tupple\u001b[0m\u001b[0;34m)\u001b[0m\u001b[0;34m\u001b[0m\u001b[0;34m\u001b[0m\u001b[0m\n",
            "\u001b[0;31mTypeError\u001b[0m: 'tuple' object does not support item assignment"
          ]
        }
      ]
    },
    {
      "cell_type": "code",
      "source": [
        "#6.Write a function to demonstrate the behavour of mutable and immutable arguments.\n",
        "def change_list(lst):\n",
        "    lst.append(10)\n",
        "def change_string(s):\n",
        "    s += \"world\"\n",
        "my_list=[1,2,3]\n",
        "my_string=\"hello\"\n",
        "change_list(my_list)\n",
        "change_string(my_string)\n",
        "print(\"list:\",my_list)\n",
        "print(\"string:\",my_string)"
      ],
      "metadata": {
        "colab": {
          "base_uri": "https://localhost:8080/"
        },
        "id": "XY5lNxPWovwQ",
        "outputId": "d28c7c81-17d7-4d0e-e2cf-1a5067397f6c"
      },
      "execution_count": 31,
      "outputs": [
        {
          "output_type": "stream",
          "name": "stdout",
          "text": [
            "list: [1, 2, 3, 10]\n",
            "string: hello\n"
          ]
        }
      ]
    },
    {
      "cell_type": "code",
      "source": [
        "#7. write a program that performs basic arithmetic operations on two user input numbers.\n",
        "firstnum = input(\"Enter first number: \")\n",
        "secondnum = input(\"Enter second number: \")\n",
        "sum = float(firstnum) + float(secondnum)\n",
        "\n"
      ],
      "metadata": {
        "colab": {
          "base_uri": "https://localhost:8080/"
        },
        "id": "ex3O_g2tsVKj",
        "outputId": "ca0b7ab8-3c52-4fd7-fca6-e73ca827fa12"
      },
      "execution_count": 32,
      "outputs": [
        {
          "name": "stdout",
          "output_type": "stream",
          "text": [
            "Enter first number: 4\n",
            "Enter second number: 5\n"
          ]
        }
      ]
    },
    {
      "cell_type": "code",
      "source": [
        "#8. write a program to demonstrate the use of logical operators?\n",
        "i = True\n",
        "she = False\n",
        "print(\"I and She:\", i and she)\n",
        "print(\"I or She:\", i or she)\n",
        "print(\"not I:\", not i)"
      ],
      "metadata": {
        "colab": {
          "base_uri": "https://localhost:8080/"
        },
        "id": "yQUZcdK0viFt",
        "outputId": "00ed040d-3323-4549-95fc-d6ea6f2c5090"
      },
      "execution_count": 38,
      "outputs": [
        {
          "output_type": "stream",
          "name": "stdout",
          "text": [
            "I and She: False\n",
            "I or She: True\n",
            "not I: False\n"
          ]
        }
      ]
    },
    {
      "cell_type": "code",
      "source": [
        "#9. write a program to convert user input from string to integer, float and boolean types?\n",
        "user_input = input(\"Enter a value: \")\n",
        "print(\"string:\",user_input)\n",
        "print(\"integer:\",int(user_input))\n",
        "print(\"float:\",float(user_input))\n",
        "print(\"boolean:\",bool(user_input))"
      ],
      "metadata": {
        "colab": {
          "base_uri": "https://localhost:8080/"
        },
        "id": "6UaJkp-1wapl",
        "outputId": "44202d41-70c0-4f14-b731-d0dd68db91ae"
      },
      "execution_count": 41,
      "outputs": [
        {
          "output_type": "stream",
          "name": "stdout",
          "text": [
            "Enter a value: 6\n",
            "string: 6\n",
            "integer: 6\n",
            "float: 6.0\n",
            "boolean: True\n"
          ]
        }
      ]
    },
    {
      "cell_type": "code",
      "source": [
        "#10. write code to demonstrate type casting with list elements.\n",
        "my_list = [\"30\",\"40\",\"50\"]\n",
        "print(\"my_list:\",my_list)\n",
        "print(\"integer:\",[int(i) for i in my_list])\n",
        "print(\"float:\",[float(i) for i in my_list])\n",
        "print(\"boolean:\",[bool(i) for i in my_list])"
      ],
      "metadata": {
        "colab": {
          "base_uri": "https://localhost:8080/"
        },
        "id": "5txXUcFlyyaO",
        "outputId": "9cc19329-5cf9-4d61-e776-23b6acdafe4c"
      },
      "execution_count": 44,
      "outputs": [
        {
          "output_type": "stream",
          "name": "stdout",
          "text": [
            "my_list: ['30', '40', '50']\n",
            "integer: [30, 40, 50]\n",
            "float: [30.0, 40.0, 50.0]\n",
            "boolean: [True, True, True]\n"
          ]
        }
      ]
    },
    {
      "cell_type": "code",
      "source": [
        "#11 write a program which checks if a number is positive, negative, or zero.\n",
        "number=input(\"Enter a number:\")\n",
        "if int(number)>0:\n",
        "  print(\"positive\")\n",
        "elif int(number)<0:\n",
        "  print(\"negative\")\n",
        "else:\n",
        "  print(\"zero\")\n"
      ],
      "metadata": {
        "colab": {
          "base_uri": "https://localhost:8080/"
        },
        "id": "nu3Z5MKr0WgQ",
        "outputId": "4fd3e85b-4f0f-427d-b892-6aaa0de30907"
      },
      "execution_count": 45,
      "outputs": [
        {
          "output_type": "stream",
          "name": "stdout",
          "text": [
            "Enter a number:6\n",
            "positive\n"
          ]
        }
      ]
    },
    {
      "cell_type": "code",
      "source": [
        "# 12. write a for loop to write numbers from 1 to 10.\n",
        "for i in range(1, 11):\n",
        "         print(i)"
      ],
      "metadata": {
        "colab": {
          "base_uri": "https://localhost:8080/"
        },
        "id": "KYI8XRX61W6T",
        "outputId": "5858c0d6-fdc8-40e0-c041-6c5edaadc461"
      },
      "execution_count": 49,
      "outputs": [
        {
          "output_type": "stream",
          "name": "stdout",
          "text": [
            "1\n",
            "2\n",
            "3\n",
            "4\n",
            "5\n",
            "6\n",
            "7\n",
            "8\n",
            "9\n",
            "10\n"
          ]
        }
      ]
    },
    {
      "cell_type": "code",
      "source": [
        "# 13. write a python program to find the sum of all even numbers between 1 and 50.\n",
        "sum_even = sum(i for i in range(1, 51) if i % 2 == 0)\n",
        "print(\"Sum of even numbers between 1 and 50:\", sum_even)"
      ],
      "metadata": {
        "colab": {
          "base_uri": "https://localhost:8080/",
          "height": 190
        },
        "id": "g7gYMAdW2HoL",
        "outputId": "3b5c9608-6e7f-4cb7-ea81-304f17ba4501"
      },
      "execution_count": 63,
      "outputs": [
        {
          "output_type": "error",
          "ename": "TypeError",
          "evalue": "'float' object is not callable",
          "traceback": [
            "\u001b[0;31m---------------------------------------------------------------------------\u001b[0m",
            "\u001b[0;31mTypeError\u001b[0m                                 Traceback (most recent call last)",
            "\u001b[0;32m<ipython-input-63-d303ce60435e>\u001b[0m in \u001b[0;36m<cell line: 0>\u001b[0;34m()\u001b[0m\n\u001b[1;32m      1\u001b[0m \u001b[0;31m# 13. write a python program to find the sum of all even numbers between 1 and 50.\u001b[0m\u001b[0;34m\u001b[0m\u001b[0;34m\u001b[0m\u001b[0m\n\u001b[0;32m----> 2\u001b[0;31m \u001b[0msum_even\u001b[0m \u001b[0;34m=\u001b[0m \u001b[0msum\u001b[0m\u001b[0;34m(\u001b[0m\u001b[0mi\u001b[0m \u001b[0;32mfor\u001b[0m \u001b[0mi\u001b[0m \u001b[0;32min\u001b[0m \u001b[0mrange\u001b[0m\u001b[0;34m(\u001b[0m\u001b[0;36m1\u001b[0m\u001b[0;34m,\u001b[0m \u001b[0;36m51\u001b[0m\u001b[0;34m)\u001b[0m \u001b[0;32mif\u001b[0m \u001b[0mi\u001b[0m \u001b[0;34m%\u001b[0m \u001b[0;36m2\u001b[0m \u001b[0;34m==\u001b[0m \u001b[0;36m0\u001b[0m\u001b[0;34m)\u001b[0m\u001b[0;34m\u001b[0m\u001b[0;34m\u001b[0m\u001b[0m\n\u001b[0m\u001b[1;32m      3\u001b[0m \u001b[0mprint\u001b[0m\u001b[0;34m(\u001b[0m\u001b[0;34m\"Sum of even numbers between 1 and 50:\"\u001b[0m\u001b[0;34m,\u001b[0m \u001b[0msum_even\u001b[0m\u001b[0;34m)\u001b[0m\u001b[0;34m\u001b[0m\u001b[0;34m\u001b[0m\u001b[0m\n",
            "\u001b[0;31mTypeError\u001b[0m: 'float' object is not callable"
          ]
        }
      ]
    },
    {
      "cell_type": "code",
      "source": [
        "#14 write  a program to reverse  a string using a while loop.\n",
        "string = input(\"Enter a string: \")\n",
        "reversed_string = \"\"\n",
        "string_length = len(string)-1\n",
        "while string_length >= 0:\n",
        "    reversed_string += string[string_length]\n",
        "    string_length -= 1\n",
        "print(\"Reversed string:\", reversed_string)\n",
        "\n",
        "\n",
        "\n"
      ],
      "metadata": {
        "colab": {
          "base_uri": "https://localhost:8080/"
        },
        "id": "kOhyrRxI3GQp",
        "outputId": "7d8641e2-019a-4593-c239-f2142e02bcfb"
      },
      "execution_count": 65,
      "outputs": [
        {
          "output_type": "stream",
          "name": "stdout",
          "text": [
            "Enter a string: javaid\n",
            "Reversed string: diavaj\n"
          ]
        }
      ]
    },
    {
      "cell_type": "code",
      "source": [
        "#15 write a python program to calculate the factorial of a number provided by the user using a while loop.\n",
        "num = int(input(\"Enter a number: \"))\n",
        "factorial = 1\n",
        "i=1\n",
        "while int(num) >= 1:\n",
        "    factorial *= int(num)\n",
        "    num -= 1\n",
        "print(\"Factorial:\",factorial)"
      ],
      "metadata": {
        "colab": {
          "base_uri": "https://localhost:8080/"
        },
        "id": "BD0pU51e6Z0N",
        "outputId": "2e0e9284-92e0-4bce-9cff-f3b8ff1fa71a"
      },
      "execution_count": 70,
      "outputs": [
        {
          "output_type": "stream",
          "name": "stdout",
          "text": [
            "Enter a number: 8\n",
            "Factorial: 40320\n"
          ]
        }
      ]
    },
    {
      "cell_type": "code",
      "source": [],
      "metadata": {
        "id": "_ZE30a2w7u8w"
      },
      "execution_count": null,
      "outputs": []
    }
  ]
}